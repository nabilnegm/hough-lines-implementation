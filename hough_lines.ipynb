{
 "cells": [
  {
   "cell_type": "code",
   "execution_count": 4,
   "metadata": {},
   "outputs": [],
   "source": [
    "import numpy as np\n",
    "import cv2\n",
    "from matplotlib import pyplot as plt"
   ]
  },
  {
   "cell_type": "code",
   "execution_count": 5,
   "metadata": {},
   "outputs": [],
   "source": [
    "def hough_line(img):\n",
    "\n",
    "    thetas = np.deg2rad(np.arange(-90.0, 90.0))\n",
    "    print(img.shape)\n",
    "    width, height = img.shape\n",
    "    diag_len = np.ceil(np.sqrt(width * width + height * height))   # max_dist\n",
    "    rhos = np.linspace(-diag_len, diag_len, diag_len * 2.0)\n",
    "\n",
    "    cos_t = np.cos(thetas)\n",
    "    sin_t = np.sin(thetas)\n",
    "    num_thetas = len(thetas)\n",
    "\n",
    "    accumulator = np.zeros((2 * int(diag_len), num_thetas), dtype=np.uint64)\n",
    "    y_idxs, x_idxs = np.nonzero(img)  # (row, col) indexes to edges\n",
    "\n",
    "    for i in range(len(x_idxs)):\n",
    "        x = x_idxs[i]\n",
    "#         y = y_idxs[i]\n",
    "        for j in range (len(y_idxs)):\n",
    "            y = y_idxs[j]\n",
    "\n",
    "            for t_idx in range(num_thetas):\n",
    "                rho = round(x * cos_t[t_idx] + y * sin_t[t_idx]) + diag_len\n",
    "                accumulator[int(rho), t_idx] += 1\n",
    "    return accumulator, thetas, rhos"
   ]
  },
  {
   "cell_type": "code",
   "execution_count": 6,
   "metadata": {},
   "outputs": [
    {
     "data": {
      "text/plain": [
       "<matplotlib.image.AxesImage at 0x7f834b159a58>"
      ]
     },
     "execution_count": 6,
     "metadata": {},
     "output_type": "execute_result"
    },
    {
     "data": {
      "image/png": "[encoded data removed]",
      "text/plain": [
       "<Figure size 432x288 with 1 Axes>"
      ]
     },
     "metadata": {
      "needs_background": "light"
     },
     "output_type": "display_data"
    }
   ],
   "source": [
    "image = cv2.imread('sudoku.png')\n",
    "plt.imshow(image)\n"
   ]
  },
  {
   "cell_type": "code",
   "execution_count": null,
   "metadata": {},
   "outputs": [
    {
     "name": "stdout",
     "output_type": "stream",
     "text": [
      "(361, 361)\n"
     ]
    },
    {
     "name": "stderr",
     "output_type": "stream",
     "text": [
      "/home/nabil/.local/lib/python3.6/site-packages/ipykernel_launcher.py:7: DeprecationWarning: object of type <class 'numpy.float64'> cannot be safely interpreted as an integer.\n",
      "  import sys\n"
     ]
    }
   ],
   "source": [
    "\n",
    "\n",
    "\n",
    "\n",
    "gray = cv2.cvtColor(image,cv2.COLOR_BGR2GRAY)\n",
    "edges = cv2.Canny(gray,50,150,apertureSize = 3)\n",
    "\n",
    "\n",
    "accumulator, thetas, rhos = hough_line(edges)\n",
    "\n",
    "idx = np.argmax(accumulator)\n",
    "rho = rhos[int(idx / accumulator.shape[1])]\n",
    "theta = thetas[int(idx % accumulator.shape[1])]\n",
    "\n",
    "\n",
    "\n",
    "\n",
    "a = np.cos(theta)\n",
    "b = np.sin(theta)\n",
    "x0 = a*rho\n",
    "y0 = b*rho\n",
    "x1 = int(x0 + 1000*(-b))\n",
    "y1 = int(y0 + 1000*(a))\n",
    "x2 = int(x0 - 1000*(-b))\n",
    "y2 = int(y0 - 1000*(a))\n",
    "\n",
    "cv2.line(image,(x1,y1),(x2,y2),(0,0,255),7)\n",
    "    \n",
    "plt.imshow(image)\n",
    "\n"
   ]
  },
  {
   "cell_type": "code",
   "execution_count": null,
   "metadata": {},
   "outputs": [],
   "source": [
    "def hough_circle(img):\n",
    "\n",
    "    thetas = np.deg2rad(np.arange(-90.0, 90.0))\n",
    "    print(img.shape)\n",
    "    width, height = img.shape\n",
    "    rads = np.linspace(-width, width, width * 2.0, dtype=int)\n",
    "    a = np.linspace(-width, width, width * 2.0, dtype=int)\n",
    "    b = np.linspace(-height, height, height * 2.0, dtype=int)\n",
    "\n",
    "    accumulator = np.zeros((width*2, height*2, width*2), dtype=np.uint64)\n",
    "    y_idxs, x_idxs = np.nonzero(img)  # (row, col) indexes to edges\n",
    "\n",
    "    for i in range(len(x_idxs)):\n",
    "        x = x_idxs[i]\n",
    "        for j in range (len(y_idxs))\n",
    "            y = y_idxs[j]\n",
    "\n",
    "            for a_x in a:\n",
    "                for b_y in b:\n",
    "                    radius = round(np.sqrt((x-a_x)*(x-a_x)+(y-b_y)*(y-b_y)))\n",
    "\n",
    "                    accumulator[int(radius), int(a_x), int(b_y)] += 1\n",
    "\n",
    "    return accumulator, rads, a, b"
   ]
  },
  {
   "cell_type": "code",
   "execution_count": null,
   "metadata": {},
   "outputs": [],
   "source": [
    "images = cv2.imread('circles.jpeg')\n",
    "\n",
    "\n",
    "\n",
    "grays = cv2.cvtColor(images,cv2.COLOR_BGR2GRAY)\n",
    "edgess = cv2.Canny(grays,50,150,apertureSize = 3)\n",
    "\n",
    "\n",
    "accumulators, rads, a, b = hough_circle(edgess)\n",
    "\n",
    "idx = np.argmax(accumulators)\n",
    "radius = rhos[int((idx / accumulators.shape[2])/accumulators.shape[1])]\n",
    "a = rhos[int((idx / accumulators.shape[2])%accumulators.shape[1])]\n",
    "\n",
    "b = thetas[int(idx % accumulators.shape[2])]\n",
    "\n",
    "cv2.circle(images,(a,b),radius,(0,0,255),7)\n",
    "    \n",
    "    \n",
    "cv2.imwrite('houghlines3.jpg',images)\n",
    "\n"
   ]
  },
  {
   "cell_type": "code",
   "execution_count": null,
   "metadata": {},
   "outputs": [],
   "source": []
  }
 ],
 "metadata": {
  "kernelspec": {
   "display_name": "Python 3",
   "language": "python",
   "name": "python3"
  },
  "language_info": {
   "codemirror_mode": {
    "name": "ipython",
    "version": 3
   },
   "file_extension": ".py",
   "mimetype": "text/x-python",
   "name": "python",
   "nbconvert_exporter": "python",
   "pygments_lexer": "ipython3",
   "version": "3.6.7"
  }
 },
 "nbformat": 4,
 "nbformat_minor": 2
}
